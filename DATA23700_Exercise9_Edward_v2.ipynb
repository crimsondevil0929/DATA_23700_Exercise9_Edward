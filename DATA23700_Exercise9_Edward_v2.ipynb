version https://git-lfs.github.com/spec/v1
oid sha256:7b674b7821e3362fde3f2d103f610d9cf956863176a85e7184ee1639c52326fe
size 121119363
